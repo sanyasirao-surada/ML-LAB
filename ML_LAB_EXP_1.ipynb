{
  "nbformat": 4,
  "nbformat_minor": 0,
  "metadata": {
    "colab": {
      "provenance": [],
      "authorship_tag": "ABX9TyMUO4xsK7N969WsSB9CPTsH",
      "include_colab_link": true
    },
    "kernelspec": {
      "name": "python3",
      "display_name": "Python 3"
    },
    "language_info": {
      "name": "python"
    }
  },
  "cells": [
    {
      "cell_type": "markdown",
      "metadata": {
        "id": "view-in-github",
        "colab_type": "text"
      },
      "source": [
        "<a href=\"https://colab.research.google.com/github/sanyasirao-surada/ML-LAB/blob/main/ML_LAB_EXP_1.ipynb\" target=\"_parent\"><img src=\"https://colab.research.google.com/assets/colab-badge.svg\" alt=\"Open In Colab\"/></a>"
      ]
    },
    {
      "cell_type": "markdown",
      "source": [
        "**Step 1: Import Required Libraries**"
      ],
      "metadata": {
        "id": "RSkrq-CkfbjW"
      }
    },
    {
      "cell_type": "code",
      "execution_count": null,
      "metadata": {
        "id": "2bUNPhDhUfSJ"
      },
      "outputs": [],
      "source": [
        "# Step 1: Import Required Libraries\n",
        "import pandas as pd\n",
        "import matplotlib.pyplot as plt\n",
        "import seaborn as sns"
      ]
    },
    {
      "cell_type": "markdown",
      "source": [
        "**Step 2: Load the Titanic Dataset**"
      ],
      "metadata": {
        "id": "FZhFxvF-feiK"
      }
    },
    {
      "cell_type": "code",
      "source": [
        "# Load Titanic dataset from seaborn\n",
        "df = sns.load_dataset('titanic')"
      ],
      "metadata": {
        "id": "wsjRQALx3Tr2"
      },
      "execution_count": null,
      "outputs": []
    },
    {
      "cell_type": "code",
      "source": [
        "print(\"Dataset Overview:\\n\", df.head(), df.tail())"
      ],
      "metadata": {
        "id": "QKTZVzr8BPWr"
      },
      "execution_count": null,
      "outputs": []
    },
    {
      "cell_type": "markdown",
      "source": [
        "**Step 3: Save Dataset to Excel and CSV**"
      ],
      "metadata": {
        "id": "-oGywbjOfWGw"
      }
    },
    {
      "cell_type": "code",
      "source": [
        "# Save to Excel\n",
        "# index=False avoids writing row numbers to Excel.\n",
        "df.to_excel('titanic_dataset.xlsx', index=False)"
      ],
      "metadata": {
        "id": "eCmaumUg56KF"
      },
      "execution_count": null,
      "outputs": []
    },
    {
      "cell_type": "code",
      "source": [
        "# Save as CSV\n",
        "df.to_csv('titanic_dataset.csv', index=False)"
      ],
      "metadata": {
        "id": "tF9ExGr5D4Yh"
      },
      "execution_count": null,
      "outputs": []
    },
    {
      "cell_type": "markdown",
      "source": [
        "**Step 4: Download Files Locally in Colab**"
      ],
      "metadata": {
        "id": "UmHkDWte0l_S"
      }
    },
    {
      "cell_type": "code",
      "source": [
        "# Download the file to your local system\n",
        "# files.download() will prompt you to download the file in Colab.\n",
        "from google.colab import files\n",
        "files.download('titanic_dataset.xlsx')"
      ],
      "metadata": {
        "id": "u79wZIsiBqg7"
      },
      "execution_count": null,
      "outputs": []
    },
    {
      "cell_type": "code",
      "source": [
        "# Download the file\n",
        "files.download('titanic_dataset.csv')"
      ],
      "metadata": {
        "id": "mNgkEvumELwi"
      },
      "execution_count": null,
      "outputs": []
    },
    {
      "cell_type": "markdown",
      "source": [
        "**Step 5: Upload Files Back into Colab**"
      ],
      "metadata": {
        "id": "O4QRHkvT1ADq"
      }
    },
    {
      "cell_type": "code",
      "source": [
        "# This will open a file upload box where you can choose your .csv or .xlsx file from your computer.\n",
        "from google.colab import files\n",
        "uploaded = files.upload()"
      ],
      "metadata": {
        "id": "4i9ItQfVFViM"
      },
      "execution_count": null,
      "outputs": []
    },
    {
      "cell_type": "markdown",
      "source": [
        "**Step 6: Read Uploaded File into a DataFrame**"
      ],
      "metadata": {
        "id": "rekvng7oHfPx"
      }
    },
    {
      "cell_type": "code",
      "source": [
        "# Replace 'yourfile.csv' with the actual filename\n",
        "df = pd.read_csv('/content/titanic_dataset.csv')"
      ],
      "metadata": {
        "id": "mWsktDGOF540"
      },
      "execution_count": null,
      "outputs": []
    },
    {
      "cell_type": "code",
      "source": [
        "# Replace 'yourfile.xlsx' with your Excel file name\n",
        "df = pd.read_excel('/content/titanic_dataset.xlsx')"
      ],
      "metadata": {
        "id": "sKbLZUXEG05s"
      },
      "execution_count": null,
      "outputs": []
    },
    {
      "cell_type": "markdown",
      "source": [
        "**Step 7: Mount & Access Google Drive**"
      ],
      "metadata": {
        "id": "uIXr2CxoUjb3"
      }
    },
    {
      "cell_type": "code",
      "source": [
        "from google.colab import drive\n",
        "drive.mount('/content/drive')"
      ],
      "metadata": {
        "id": "BSD4NN7fUnM0"
      },
      "execution_count": null,
      "outputs": []
    },
    {
      "cell_type": "markdown",
      "source": [
        "**7a: Load Specific Sheets from an Excel Workbook**"
      ],
      "metadata": {
        "id": "mcZFC5td2DSw"
      }
    },
    {
      "cell_type": "code",
      "source": [
        "excel_path= \"/content/drive/MyDrive/1.ML LAB CODES AND DATASETS/titanic_dataset 18-07-25.xlsx\""
      ],
      "metadata": {
        "id": "lV5AU9RcVNG3"
      },
      "execution_count": null,
      "outputs": []
    },
    {
      "cell_type": "code",
      "source": [
        "# Load a specific sheet\n",
        "df = pd.read_excel(excel_path, sheet_name='EXP-1')  # replace 'Sheet1' with your actual sheet name"
      ],
      "metadata": {
        "id": "uDiIaMyOXVsM"
      },
      "execution_count": null,
      "outputs": []
    },
    {
      "cell_type": "code",
      "source": [
        "xls = pd.ExcelFile(excel_path)\n",
        "print(xls.sheet_names)  # Lists all available sheets\n",
        "\n",
        "# Then load the one you want\n",
        "df = xls.parse('EXP-1')"
      ],
      "metadata": {
        "id": "FaYQUwcpZrjT"
      },
      "execution_count": null,
      "outputs": []
    },
    {
      "cell_type": "code",
      "source": [
        "csv_path = '/content/drive/MyDrive/1.ML LAB CODES AND DATASETS/titanic_dataset from seaborn.csv'\n",
        "df = pd.read_csv(csv_path)"
      ],
      "metadata": {
        "id": "yEsX5mn4fU_n"
      },
      "execution_count": null,
      "outputs": []
    },
    {
      "cell_type": "markdown",
      "source": [
        "** 7b: Save CSV/Excel Back to Google Drive**"
      ],
      "metadata": {
        "id": "VKqdqNfehUFt"
      }
    },
    {
      "cell_type": "code",
      "source": [
        "save_path = '/content/drive/MyDrive/1.ML LAB CODES AND DATASETS/output.csv'\n",
        "df.to_csv(save_path, index=False)"
      ],
      "metadata": {
        "id": "43yTYm6kgK55"
      },
      "execution_count": null,
      "outputs": []
    },
    {
      "cell_type": "code",
      "source": [
        "save_path = '/content/drive/MyDrive/1.ML LAB CODES AND DATASETS/output.xlsx'\n",
        "df.to_excel(save_path, index=False)"
      ],
      "metadata": {
        "id": "Imuyrvg6gzjW"
      },
      "execution_count": null,
      "outputs": []
    },
    {
      "cell_type": "markdown",
      "source": [
        "**Step 8: Load from a GitHub Raw URL**"
      ],
      "metadata": {
        "id": "upPS3V32sdOC"
      }
    },
    {
      "cell_type": "code",
      "source": [
        "import pandas as pd\n",
        "\n",
        "url = 'https://raw.githubusercontent.com/sanyasirao-surada/research_portal/refs/heads/main/titanic_dataset%20from%20seaborn.csv'\n",
        "df = pd.read_csv(url)"
      ],
      "metadata": {
        "id": "tTB8o6VXmsTh"
      },
      "execution_count": null,
      "outputs": []
    },
    {
      "cell_type": "markdown",
      "source": [
        "**Step 9: Basic Data Exploration**"
      ],
      "metadata": {
        "id": "AHUyYZn92axT"
      }
    },
    {
      "cell_type": "code",
      "source": [
        "df.shape"
      ],
      "metadata": {
        "id": "M0cYBQyeIAsV"
      },
      "execution_count": null,
      "outputs": []
    },
    {
      "cell_type": "code",
      "source": [
        "print(\"Dataset Overview:\\n\", df.head(), df.tail())"
      ],
      "metadata": {
        "id": "kFf3NOEqW-x1"
      },
      "execution_count": null,
      "outputs": []
    },
    {
      "cell_type": "code",
      "source": [
        "print(\"\\nSummary Statistics:\\n\", df.describe(include='all'))"
      ],
      "metadata": {
        "id": "-PQdwFJ7AkPQ"
      },
      "execution_count": null,
      "outputs": []
    },
    {
      "cell_type": "code",
      "source": [
        "print(\"\\nData Types:\\n\", df.dtypes)"
      ],
      "metadata": {
        "id": "VMaLD8i1AueJ"
      },
      "execution_count": null,
      "outputs": []
    },
    {
      "cell_type": "code",
      "source": [
        "print(\"\\nSample Slice:\\n\", df.iloc[6:16, 2:4])"
      ],
      "metadata": {
        "id": "zQ5fdtH1A6_K"
      },
      "execution_count": null,
      "outputs": []
    },
    {
      "cell_type": "markdown",
      "source": [
        "**9.1.Step-by-Step Code to Clean Titanic Dataset**"
      ],
      "metadata": {
        "id": "83h2frrFRmtn"
      }
    },
    {
      "cell_type": "code",
      "source": [
        "df.info()"
      ],
      "metadata": {
        "id": "FrEOmZEzAz0F"
      },
      "execution_count": null,
      "outputs": []
    },
    {
      "cell_type": "code",
      "source": [
        "print(\"\\nMissing Values (Before Cleaning):\")\n",
        "print(df.isnull().sum())"
      ],
      "metadata": {
        "id": "v3b-zU9kAp1U"
      },
      "execution_count": null,
      "outputs": []
    },
    {
      "cell_type": "code",
      "source": [
        "Drop irrelevant columns (optional based on experiment goal)\n",
        "df = df.drop(columns=['deck', 'embark_town', 'alive', 'class', 'who', 'adult_male', 'alone'])"
      ],
      "metadata": {
        "id": "KRxNS1CpP2UA"
      },
      "execution_count": null,
      "outputs": []
    },
    {
      "cell_type": "code",
      "source": [
        "Fill missing values\n",
        "# Fill age with mean\n",
        "df['age'] = df['age'].fillna(df['age'].mean())"
      ],
      "metadata": {
        "id": "LEU1bvweQXCL"
      },
      "execution_count": null,
      "outputs": []
    },
    {
      "cell_type": "code",
      "source": [
        "# Fill embarked with mode\n",
        "df['embarked'] = df['embarked'].fillna(df['embarked'].mode()[0])"
      ],
      "metadata": {
        "id": "SW1CyG00Qa6h"
      },
      "execution_count": null,
      "outputs": []
    },
    {
      "cell_type": "code",
      "source": [
        "# Drop rows with any remaining missing values\n",
        "df = df.dropna()"
      ],
      "metadata": {
        "id": "9IZskC1xQfJ5"
      },
      "execution_count": null,
      "outputs": []
    },
    {
      "cell_type": "code",
      "source": [
        "# Convert categorical columns into numeric using encoding (optional)\n",
        "df['sex'] = df['sex'].map({'male': 0, 'female': 1})\n",
        "df['embarked'] = df['embarked'].map({'S': 0, 'C': 1, 'Q': 2})"
      ],
      "metadata": {
        "id": "EO4c5lKwQp6Q"
      },
      "execution_count": null,
      "outputs": []
    },
    {
      "cell_type": "code",
      "source": [
        "# View cleaned data info\n",
        "print(\"\\nCleaned Dataset Info:\")\n",
        "print(df.info())"
      ],
      "metadata": {
        "id": "irbQbStaQseE"
      },
      "execution_count": null,
      "outputs": []
    },
    {
      "cell_type": "code",
      "source": [
        "# View missing values after cleaning\n",
        "print(\"\\nMissing Values (After Cleaning):\")\n",
        "print(df.isnull().sum())"
      ],
      "metadata": {
        "id": "U06Th0VpQ2Vm"
      },
      "execution_count": null,
      "outputs": []
    },
    {
      "cell_type": "code",
      "source": [
        "# Save cleaned dataset to CSV and Excel\n",
        "df.to_csv(\"cleaned_titanic.csv\", index=False)\n",
        "df.to_excel(\"cleaned_titanic.xlsx\", index=False)"
      ],
      "metadata": {
        "id": "VYPaojk_REVE"
      },
      "execution_count": null,
      "outputs": []
    },
    {
      "cell_type": "code",
      "source": [
        "# Download files (for Google Colab)\n",
        "from google.colab import files\n",
        "files.download(\"cleaned_titanic.csv\")\n",
        "files.download(\"cleaned_titanic.xlsx\")"
      ],
      "metadata": {
        "id": "E9dSliT3RNsm"
      },
      "execution_count": null,
      "outputs": []
    },
    {
      "cell_type": "markdown",
      "source": [
        "**Step 10: Data Preparation Activities**"
      ],
      "metadata": {
        "id": "euKXeEqQ26S6"
      }
    },
    {
      "cell_type": "code",
      "source": [
        "# 10a. Filtering survivors\n",
        "print(\"\\nFiltering passengers who survived:\")\n",
        "survived = df[df['survived'] == 1]\n",
        "print(survived[['sex', 'age', 'pclass', 'survived']].head())"
      ],
      "metadata": {
        "id": "0OB0Pp03bIQu"
      },
      "execution_count": null,
      "outputs": []
    },
    {
      "cell_type": "code",
      "source": [
        "# 10b. Grouping & counting survivors by gender & class\n",
        "print(\"\\n Grouping by 'sex' and 'pclass' to count survivors:\")\n",
        "grouped = df.groupby(['sex', 'pclass'])['survived'].sum()\n",
        "print(grouped)"
      ],
      "metadata": {
        "id": "EMiKHGZiC03h"
      },
      "execution_count": null,
      "outputs": []
    },
    {
      "cell_type": "code",
      "source": [
        "# 10c. Sorting by age (showing youngest via 'who')\n",
        "print(\"\\nSorting passengers by age:\")\n",
        "sorted_df = df.sort_values(by='age')\n",
        "print(sorted_df[['age', 'sex']].head())"
      ],
      "metadata": {
        "id": "ActJqCnzC4eb"
      },
      "execution_count": null,
      "outputs": []
    },
    {
      "cell_type": "markdown",
      "source": [
        "**Step 11: Data Visualization**"
      ],
      "metadata": {
        "id": "bU79Gqie3Pvg"
      }
    },
    {
      "cell_type": "code",
      "source": [
        "plt.figure(figsize=(15,10))\n",
        "\n",
        "# Bar plot of survival by gender\n",
        "plt.subplot(2,3,1)\n",
        "sns.countplot(x='sex', hue='survived', data=df)\n",
        "plt.title(\"Survival Count by Gender\")"
      ],
      "metadata": {
        "id": "DsqstAzbD2_X"
      },
      "execution_count": null,
      "outputs": []
    },
    {
      "cell_type": "code",
      "source": [
        "# Histogram of age\n",
        "plt.subplot(2,3,2)\n",
        "df['age'].dropna().hist(bins=20, edgecolor='g')\n",
        "plt.title(\"Age Distribution\")"
      ],
      "metadata": {
        "id": "hGWoMIVfEMfN"
      },
      "execution_count": null,
      "outputs": []
    },
    {
      "cell_type": "code",
      "source": [
        "# Distribution Plot: Fare\n",
        "plt.subplot(2,3,3)\n",
        "sns.histplot(df['fare'], kde=True)\n",
        "plt.title(\"Fare Distribution with KDE\")"
      ],
      "metadata": {
        "id": "LzZVc2QlERLD"
      },
      "execution_count": null,
      "outputs": []
    },
    {
      "cell_type": "code",
      "source": [
        "# Box plot of age by class\n",
        "plt.subplot(2,3,4)\n",
        "sns.boxplot(x='pclass', y='age', data=df)\n",
        "plt.title(\"Box Plot of Age by Class\")"
      ],
      "metadata": {
        "id": "oidihayWEkjM"
      },
      "execution_count": null,
      "outputs": []
    },
    {
      "cell_type": "code",
      "source": [
        "# Scatter plot of age vs fare colored by survival\n",
        "plt.subplot(2,3,5)\n",
        "sns.scatterplot(x='age', y='fare', hue='survived', data=df)\n",
        "plt.title(\"Age vs Fare (Survival)\")\n",
        "\n",
        "plt.tight_layout()\n",
        "plt.show()"
      ],
      "metadata": {
        "id": "T9S_qaTyEptl"
      },
      "execution_count": null,
      "outputs": []
    },
    {
      "cell_type": "markdown",
      "source": [
        "**Step 12: Extended Visualizations**"
      ],
      "metadata": {
        "id": "K41BF2403zKW"
      }
    },
    {
      "cell_type": "code",
      "source": [
        "# Survival rate by class (barplot)\n",
        "sns.barplot(data=df, x='pclass', y='survived')"
      ],
      "metadata": {
        "id": "9Le0u5UOE67l"
      },
      "execution_count": null,
      "outputs": []
    },
    {
      "cell_type": "code",
      "source": [
        "# Pie chart of overall survival distribution\n",
        "plt.pie(df['survived'].value_counts(), labels=['No','Yes'], autopct='%1.1f%%')"
      ],
      "metadata": {
        "id": "w6hHq1TmE-9m"
      },
      "execution_count": null,
      "outputs": []
    },
    {
      "cell_type": "code",
      "source": [
        "# Violin plot: age & survival by gender\n",
        "sns.violinplot(data=df, x='sex', y='age', hue='survived', split=True)"
      ],
      "metadata": {
        "id": "_u6wO7dRFEvg"
      },
      "execution_count": null,
      "outputs": []
    },
    {
      "cell_type": "code",
      "source": [
        "# Correlation heatmap (numeric only)\n",
        "sns.heatmap(df.corr(numeric_only=True), annot=True, cmap='coolwarm')"
      ],
      "metadata": {
        "id": "wItmV5EUFIYK"
      },
      "execution_count": null,
      "outputs": []
    },
    {
      "cell_type": "code",
      "source": [
        "# FacetGrid: age distribution by survival & gender\n",
        "g = sns.FacetGrid(df, col=\"survived\", row=\"sex\", margin_titles=True)\n",
        "g.map_dataframe(sns.histplot, x=\"age\", bins=20)"
      ],
      "metadata": {
        "id": "eY4maOCdFMcD"
      },
      "execution_count": null,
      "outputs": []
    },
    {
      "cell_type": "code",
      "source": [
        "# Scatter with class styling\n",
        "sns.scatterplot(data=df, x='age', y='fare', hue='pclass', style='survived')"
      ],
      "metadata": {
        "id": "tjzQU_xKFQwE"
      },
      "execution_count": null,
      "outputs": []
    },
    {
      "cell_type": "code",
      "source": [
        "# Swarm plot of age by class & gender\n",
        "sns.swarmplot(data=df, x='pclass', y='age', hue='sex')"
      ],
      "metadata": {
        "id": "_lo35vHiFU95"
      },
      "execution_count": null,
      "outputs": []
    },
    {
      "cell_type": "code",
      "source": [
        "################################################################################\n",
        "# Basic Data Exploration\n",
        "################################################################################\n",
        "print(\"Dataset Head:\\n\", df.head(), \"\\n\")\n",
        "print(\"Dataset Tail:\\n\", df.tail(), \"\\n\")\n",
        "print(\"Summary Statistics:\\n\", df.describe(include='all'), \"\\n\")\n",
        "print(\"Missing Values:\\n\", df.isnull().sum(), \"\\n\")\n",
        "print(\"Column Data Types:\\n\", df.dtypes, \"\\n\")\n",
        "df.info()"
      ],
      "metadata": {
        "id": "ViYFuOQIGS8s"
      },
      "execution_count": null,
      "outputs": []
    },
    {
      "cell_type": "code",
      "source": [
        "################################################################################\n",
        "# Data Visualization (multiple subplots)\n",
        "################################################################################\n",
        "plt.figure(figsize=(15, 10))\n",
        "\n",
        "# 11a. Bar Plot: Survival count by gender\n",
        "plt.subplot(2, 3, 1)\n",
        "sns.countplot(x='sex', hue='survived', data=df)\n",
        "plt.title(\"Survival Count by Gender\")\n",
        "\n",
        "# 11b. Histogram: Age distribution\n",
        "plt.subplot(2, 3, 2)\n",
        "df['age'].dropna().hist(bins=20, edgecolor='black')\n",
        "plt.title(\"Age Distribution\")\n",
        "\n",
        "# 11c. KDE Histogram: Fare distribution\n",
        "plt.subplot(2, 3, 3)\n",
        "sns.histplot(df['fare'], kde=True)\n",
        "plt.title(\"Fare Distribution with KDE\")\n",
        "\n",
        "# 11d. Box Plot: Age vs Class\n",
        "plt.subplot(2, 3, 4)\n",
        "sns.boxplot(x='pclass', y='age', data=df)\n",
        "plt.title(\"Box Plot of Age by Class\")\n",
        "\n",
        "# 11e. Scatter Plot: Age vs Fare colored by survival\n",
        "plt.subplot(2, 3, 5)\n",
        "sns.scatterplot(x='age', y='fare', hue='survived', data=df)\n",
        "plt.title(\"Age vs Fare (Survival)\")\n",
        "\n",
        "plt.tight_layout()\n",
        "plt.show()"
      ],
      "metadata": {
        "id": "q6AL4ojcHIdG"
      },
      "execution_count": null,
      "outputs": []
    },
    {
      "cell_type": "code",
      "source": [
        "# Survival rate by passenger class\n",
        "sns.barplot(data=df, x='class', y='survived')\n",
        "plt.title(\"Survival Rate by Class\")\n",
        "plt.show()\n",
        "\n",
        "# Pie chart of overall survival distribution\n",
        "survived_counts = df['survived'].value_counts()\n",
        "plt.pie(survived_counts, labels=['Did Not Survive','Survived'], autopct='%1.1f%%')\n",
        "plt.title(\"Survival Distribution\")\n",
        "plt.show()\n",
        "\n",
        "# Violin plot: Age & survival by gender\n",
        "sns.violinplot(data=df, x='sex', y='age', hue='survived', split=True)\n",
        "plt.title(\"Age & Survival by Gender\")\n",
        "plt.show()\n",
        "\n",
        "# Correlation heatmap (numeric features)\n",
        "sns.heatmap(df.corr(numeric_only=True), annot=True, cmap='coolwarm')\n",
        "plt.title(\"Correlation Heatmap\")\n",
        "plt.show()"
      ],
      "metadata": {
        "id": "LWBSTqMcGhLm"
      },
      "execution_count": null,
      "outputs": []
    }
  ]
}