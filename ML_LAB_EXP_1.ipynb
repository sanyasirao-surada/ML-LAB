{
  "nbformat": 4,
  "nbformat_minor": 0,
  "metadata": {
    "colab": {
      "provenance": [],
      "authorship_tag": "ABX9TyPVKOx4JgS+eTMp+dbUdWZH",
      "include_colab_link": true
    },
    "kernelspec": {
      "name": "python3",
      "display_name": "Python 3"
    },
    "language_info": {
      "name": "python"
    }
  },
  "cells": [
    {
      "cell_type": "markdown",
      "metadata": {
        "id": "view-in-github",
        "colab_type": "text"
      },
      "source": [
        "<a href=\"https://colab.research.google.com/github/sanyasirao-surada/ML-LAB/blob/main/ML_LAB_EXP_1.ipynb\" target=\"_parent\"><img src=\"https://colab.research.google.com/assets/colab-badge.svg\" alt=\"Open In Colab\"/></a>"
      ]
    },
    {
      "cell_type": "markdown",
      "source": [
        "**Step 1: Import Required Libraries**"
      ],
      "metadata": {
        "id": "RSkrq-CkfbjW"
      }
    },
    {
      "cell_type": "code",
      "execution_count": null,
      "metadata": {
        "id": "2bUNPhDhUfSJ"
      },
      "outputs": [],
      "source": [
        "# Step 1: Import Required Libraries\n",
        "import pandas as pd\n",
        "import matplotlib.pyplot as plt\n",
        "import seaborn as sns"
      ]
    },
    {
      "cell_type": "markdown",
      "source": [
        "**Step 2: Load the Titanic Dataset**"
      ],
      "metadata": {
        "id": "FZhFxvF-feiK"
      }
    },
    {
      "cell_type": "code",
      "source": [
        "# Load Titanic dataset from seaborn\n",
        "df = sns.load_dataset('titanic')"
      ],
      "metadata": {
        "id": "wsjRQALx3Tr2"
      },
      "execution_count": null,
      "outputs": []
    },
    {
      "cell_type": "markdown",
      "source": [
        "**Step 3: Save Dataset to Excel and CSV**"
      ],
      "metadata": {
        "id": "-oGywbjOfWGw"
      }
    },
    {
      "cell_type": "code",
      "source": [
        "# Save to Excel\n",
        "# index=False avoids writing row numbers to Excel.\n",
        "df.to_excel('titanic_dataset.xlsx', index=False)"
      ],
      "metadata": {
        "id": "eCmaumUg56KF"
      },
      "execution_count": null,
      "outputs": []
    },
    {
      "cell_type": "code",
      "source": [
        "# Save as CSV\n",
        "df.to_csv('titanic_dataset.csv', index=False)"
      ],
      "metadata": {
        "id": "tF9ExGr5D4Yh"
      },
      "execution_count": null,
      "outputs": []
    },
    {
      "cell_type": "markdown",
      "source": [
        "**Step 4: Download Files Locally in Colab**"
      ],
      "metadata": {
        "id": "UmHkDWte0l_S"
      }
    },
    {
      "cell_type": "code",
      "source": [
        "# Download the file to your local system\n",
        "# files.download() will prompt you to download the file in Colab.\n",
        "from google.colab import files\n",
        "files.download('titanic_dataset.xlsx')"
      ],
      "metadata": {
        "colab": {
          "base_uri": "https://localhost:8080/",
          "height": 17
        },
        "id": "u79wZIsiBqg7",
        "outputId": "18eabd01-f96a-4e81-f03c-d5745757d114"
      },
      "execution_count": null,
      "outputs": [
        {
          "output_type": "display_data",
          "data": {
            "text/plain": [
              "<IPython.core.display.Javascript object>"
            ],
            "application/javascript": [
              "\n",
              "    async function download(id, filename, size) {\n",
              "      if (!google.colab.kernel.accessAllowed) {\n",
              "        return;\n",
              "      }\n",
              "      const div = document.createElement('div');\n",
              "      const label = document.createElement('label');\n",
              "      label.textContent = `Downloading \"${filename}\": `;\n",
              "      div.appendChild(label);\n",
              "      const progress = document.createElement('progress');\n",
              "      progress.max = size;\n",
              "      div.appendChild(progress);\n",
              "      document.body.appendChild(div);\n",
              "\n",
              "      const buffers = [];\n",
              "      let downloaded = 0;\n",
              "\n",
              "      const channel = await google.colab.kernel.comms.open(id);\n",
              "      // Send a message to notify the kernel that we're ready.\n",
              "      channel.send({})\n",
              "\n",
              "      for await (const message of channel.messages) {\n",
              "        // Send a message to notify the kernel that we're ready.\n",
              "        channel.send({})\n",
              "        if (message.buffers) {\n",
              "          for (const buffer of message.buffers) {\n",
              "            buffers.push(buffer);\n",
              "            downloaded += buffer.byteLength;\n",
              "            progress.value = downloaded;\n",
              "          }\n",
              "        }\n",
              "      }\n",
              "      const blob = new Blob(buffers, {type: 'application/binary'});\n",
              "      const a = document.createElement('a');\n",
              "      a.href = window.URL.createObjectURL(blob);\n",
              "      a.download = filename;\n",
              "      div.appendChild(a);\n",
              "      a.click();\n",
              "      div.remove();\n",
              "    }\n",
              "  "
            ]
          },
          "metadata": {}
        },
        {
          "output_type": "display_data",
          "data": {
            "text/plain": [
              "<IPython.core.display.Javascript object>"
            ],
            "application/javascript": [
              "download(\"download_f22715c5-770b-42d8-a8da-8676fd383f20\", \"titanic_dataset.xlsx\", 55487)"
            ]
          },
          "metadata": {}
        }
      ]
    },
    {
      "cell_type": "code",
      "source": [
        "# Download the file\n",
        "files.download('titanic_dataset.csv')"
      ],
      "metadata": {
        "colab": {
          "base_uri": "https://localhost:8080/",
          "height": 17
        },
        "id": "mNgkEvumELwi",
        "outputId": "4093576b-d42c-4370-f9be-bd5a5c7e45b5"
      },
      "execution_count": null,
      "outputs": [
        {
          "output_type": "display_data",
          "data": {
            "text/plain": [
              "<IPython.core.display.Javascript object>"
            ],
            "application/javascript": [
              "\n",
              "    async function download(id, filename, size) {\n",
              "      if (!google.colab.kernel.accessAllowed) {\n",
              "        return;\n",
              "      }\n",
              "      const div = document.createElement('div');\n",
              "      const label = document.createElement('label');\n",
              "      label.textContent = `Downloading \"${filename}\": `;\n",
              "      div.appendChild(label);\n",
              "      const progress = document.createElement('progress');\n",
              "      progress.max = size;\n",
              "      div.appendChild(progress);\n",
              "      document.body.appendChild(div);\n",
              "\n",
              "      const buffers = [];\n",
              "      let downloaded = 0;\n",
              "\n",
              "      const channel = await google.colab.kernel.comms.open(id);\n",
              "      // Send a message to notify the kernel that we're ready.\n",
              "      channel.send({})\n",
              "\n",
              "      for await (const message of channel.messages) {\n",
              "        // Send a message to notify the kernel that we're ready.\n",
              "        channel.send({})\n",
              "        if (message.buffers) {\n",
              "          for (const buffer of message.buffers) {\n",
              "            buffers.push(buffer);\n",
              "            downloaded += buffer.byteLength;\n",
              "            progress.value = downloaded;\n",
              "          }\n",
              "        }\n",
              "      }\n",
              "      const blob = new Blob(buffers, {type: 'application/binary'});\n",
              "      const a = document.createElement('a');\n",
              "      a.href = window.URL.createObjectURL(blob);\n",
              "      a.download = filename;\n",
              "      div.appendChild(a);\n",
              "      a.click();\n",
              "      div.remove();\n",
              "    }\n",
              "  "
            ]
          },
          "metadata": {}
        },
        {
          "output_type": "display_data",
          "data": {
            "text/plain": [
              "<IPython.core.display.Javascript object>"
            ],
            "application/javascript": [
              "download(\"download_9de72c4b-58a4-46af-94be-8105bfc00d39\", \"titanic_dataset.csv\", 57018)"
            ]
          },
          "metadata": {}
        }
      ]
    },
    {
      "cell_type": "markdown",
      "source": [
        "**Step 5: Upload Files Back into Colab**"
      ],
      "metadata": {
        "id": "O4QRHkvT1ADq"
      }
    },
    {
      "cell_type": "code",
      "source": [
        "# This will open a file upload box where you can choose your .csv or .xlsx file from your computer.\n",
        "from google.colab import files\n",
        "uploaded = files.upload()"
      ],
      "metadata": {
        "colab": {
          "base_uri": "https://localhost:8080/",
          "height": 38
        },
        "id": "4i9ItQfVFViM",
        "outputId": "2a74e0ca-0115-473b-c300-37dd78b98365"
      },
      "execution_count": null,
      "outputs": [
        {
          "output_type": "display_data",
          "data": {
            "text/plain": [
              "<IPython.core.display.HTML object>"
            ],
            "text/html": [
              "\n",
              "     <input type=\"file\" id=\"files-ceb474ac-58a1-4604-982c-9fb6f958f62b\" name=\"files[]\" multiple disabled\n",
              "        style=\"border:none\" />\n",
              "     <output id=\"result-ceb474ac-58a1-4604-982c-9fb6f958f62b\">\n",
              "      Upload widget is only available when the cell has been executed in the\n",
              "      current browser session. Please rerun this cell to enable.\n",
              "      </output>\n",
              "      <script>// Copyright 2017 Google LLC\n",
              "//\n",
              "// Licensed under the Apache License, Version 2.0 (the \"License\");\n",
              "// you may not use this file except in compliance with the License.\n",
              "// You may obtain a copy of the License at\n",
              "//\n",
              "//      http://www.apache.org/licenses/LICENSE-2.0\n",
              "//\n",
              "// Unless required by applicable law or agreed to in writing, software\n",
              "// distributed under the License is distributed on an \"AS IS\" BASIS,\n",
              "// WITHOUT WARRANTIES OR CONDITIONS OF ANY KIND, either express or implied.\n",
              "// See the License for the specific language governing permissions and\n",
              "// limitations under the License.\n",
              "\n",
              "/**\n",
              " * @fileoverview Helpers for google.colab Python module.\n",
              " */\n",
              "(function(scope) {\n",
              "function span(text, styleAttributes = {}) {\n",
              "  const element = document.createElement('span');\n",
              "  element.textContent = text;\n",
              "  for (const key of Object.keys(styleAttributes)) {\n",
              "    element.style[key] = styleAttributes[key];\n",
              "  }\n",
              "  return element;\n",
              "}\n",
              "\n",
              "// Max number of bytes which will be uploaded at a time.\n",
              "const MAX_PAYLOAD_SIZE = 100 * 1024;\n",
              "\n",
              "function _uploadFiles(inputId, outputId) {\n",
              "  const steps = uploadFilesStep(inputId, outputId);\n",
              "  const outputElement = document.getElementById(outputId);\n",
              "  // Cache steps on the outputElement to make it available for the next call\n",
              "  // to uploadFilesContinue from Python.\n",
              "  outputElement.steps = steps;\n",
              "\n",
              "  return _uploadFilesContinue(outputId);\n",
              "}\n",
              "\n",
              "// This is roughly an async generator (not supported in the browser yet),\n",
              "// where there are multiple asynchronous steps and the Python side is going\n",
              "// to poll for completion of each step.\n",
              "// This uses a Promise to block the python side on completion of each step,\n",
              "// then passes the result of the previous step as the input to the next step.\n",
              "function _uploadFilesContinue(outputId) {\n",
              "  const outputElement = document.getElementById(outputId);\n",
              "  const steps = outputElement.steps;\n",
              "\n",
              "  const next = steps.next(outputElement.lastPromiseValue);\n",
              "  return Promise.resolve(next.value.promise).then((value) => {\n",
              "    // Cache the last promise value to make it available to the next\n",
              "    // step of the generator.\n",
              "    outputElement.lastPromiseValue = value;\n",
              "    return next.value.response;\n",
              "  });\n",
              "}\n",
              "\n",
              "/**\n",
              " * Generator function which is called between each async step of the upload\n",
              " * process.\n",
              " * @param {string} inputId Element ID of the input file picker element.\n",
              " * @param {string} outputId Element ID of the output display.\n",
              " * @return {!Iterable<!Object>} Iterable of next steps.\n",
              " */\n",
              "function* uploadFilesStep(inputId, outputId) {\n",
              "  const inputElement = document.getElementById(inputId);\n",
              "  inputElement.disabled = false;\n",
              "\n",
              "  const outputElement = document.getElementById(outputId);\n",
              "  outputElement.innerHTML = '';\n",
              "\n",
              "  const pickedPromise = new Promise((resolve) => {\n",
              "    inputElement.addEventListener('change', (e) => {\n",
              "      resolve(e.target.files);\n",
              "    });\n",
              "  });\n",
              "\n",
              "  const cancel = document.createElement('button');\n",
              "  inputElement.parentElement.appendChild(cancel);\n",
              "  cancel.textContent = 'Cancel upload';\n",
              "  const cancelPromise = new Promise((resolve) => {\n",
              "    cancel.onclick = () => {\n",
              "      resolve(null);\n",
              "    };\n",
              "  });\n",
              "\n",
              "  // Wait for the user to pick the files.\n",
              "  const files = yield {\n",
              "    promise: Promise.race([pickedPromise, cancelPromise]),\n",
              "    response: {\n",
              "      action: 'starting',\n",
              "    }\n",
              "  };\n",
              "\n",
              "  cancel.remove();\n",
              "\n",
              "  // Disable the input element since further picks are not allowed.\n",
              "  inputElement.disabled = true;\n",
              "\n",
              "  if (!files) {\n",
              "    return {\n",
              "      response: {\n",
              "        action: 'complete',\n",
              "      }\n",
              "    };\n",
              "  }\n",
              "\n",
              "  for (const file of files) {\n",
              "    const li = document.createElement('li');\n",
              "    li.append(span(file.name, {fontWeight: 'bold'}));\n",
              "    li.append(span(\n",
              "        `(${file.type || 'n/a'}) - ${file.size} bytes, ` +\n",
              "        `last modified: ${\n",
              "            file.lastModifiedDate ? file.lastModifiedDate.toLocaleDateString() :\n",
              "                                    'n/a'} - `));\n",
              "    const percent = span('0% done');\n",
              "    li.appendChild(percent);\n",
              "\n",
              "    outputElement.appendChild(li);\n",
              "\n",
              "    const fileDataPromise = new Promise((resolve) => {\n",
              "      const reader = new FileReader();\n",
              "      reader.onload = (e) => {\n",
              "        resolve(e.target.result);\n",
              "      };\n",
              "      reader.readAsArrayBuffer(file);\n",
              "    });\n",
              "    // Wait for the data to be ready.\n",
              "    let fileData = yield {\n",
              "      promise: fileDataPromise,\n",
              "      response: {\n",
              "        action: 'continue',\n",
              "      }\n",
              "    };\n",
              "\n",
              "    // Use a chunked sending to avoid message size limits. See b/62115660.\n",
              "    let position = 0;\n",
              "    do {\n",
              "      const length = Math.min(fileData.byteLength - position, MAX_PAYLOAD_SIZE);\n",
              "      const chunk = new Uint8Array(fileData, position, length);\n",
              "      position += length;\n",
              "\n",
              "      const base64 = btoa(String.fromCharCode.apply(null, chunk));\n",
              "      yield {\n",
              "        response: {\n",
              "          action: 'append',\n",
              "          file: file.name,\n",
              "          data: base64,\n",
              "        },\n",
              "      };\n",
              "\n",
              "      let percentDone = fileData.byteLength === 0 ?\n",
              "          100 :\n",
              "          Math.round((position / fileData.byteLength) * 100);\n",
              "      percent.textContent = `${percentDone}% done`;\n",
              "\n",
              "    } while (position < fileData.byteLength);\n",
              "  }\n",
              "\n",
              "  // All done.\n",
              "  yield {\n",
              "    response: {\n",
              "      action: 'complete',\n",
              "    }\n",
              "  };\n",
              "}\n",
              "\n",
              "scope.google = scope.google || {};\n",
              "scope.google.colab = scope.google.colab || {};\n",
              "scope.google.colab._files = {\n",
              "  _uploadFiles,\n",
              "  _uploadFilesContinue,\n",
              "};\n",
              "})(self);\n",
              "</script> "
            ]
          },
          "metadata": {}
        }
      ]
    },
    {
      "cell_type": "markdown",
      "source": [
        "**Step 6: Read Uploaded File into a DataFrame**"
      ],
      "metadata": {
        "id": "rekvng7oHfPx"
      }
    },
    {
      "cell_type": "code",
      "source": [
        "# Replace 'yourfile.csv' with the actual filename\n",
        "df = pd.read_csv('/content/titanic_dataset.csv')"
      ],
      "metadata": {
        "id": "mWsktDGOF540"
      },
      "execution_count": null,
      "outputs": []
    },
    {
      "cell_type": "code",
      "source": [
        "# Replace 'yourfile.xlsx' with your Excel file name\n",
        "df = pd.read_excel('/content/titanic_dataset.xlsx')"
      ],
      "metadata": {
        "id": "sKbLZUXEG05s"
      },
      "execution_count": null,
      "outputs": []
    },
    {
      "cell_type": "markdown",
      "source": [
        "**Step 7: Mount & Access Google Drive**"
      ],
      "metadata": {
        "id": "uIXr2CxoUjb3"
      }
    },
    {
      "cell_type": "code",
      "source": [
        "from google.colab import drive\n",
        "drive.mount('/content/drive')"
      ],
      "metadata": {
        "colab": {
          "base_uri": "https://localhost:8080/"
        },
        "id": "BSD4NN7fUnM0",
        "outputId": "719170d0-2300-433f-b508-c44b5811f4a9"
      },
      "execution_count": null,
      "outputs": [
        {
          "output_type": "stream",
          "name": "stdout",
          "text": [
            "Drive already mounted at /content/drive; to attempt to forcibly remount, call drive.mount(\"/content/drive\", force_remount=True).\n"
          ]
        }
      ]
    },
    {
      "cell_type": "markdown",
      "source": [
        "**7a: Load Specific Sheets from an Excel Workbook**"
      ],
      "metadata": {
        "id": "mcZFC5td2DSw"
      }
    },
    {
      "cell_type": "code",
      "source": [
        "drive_path= \"/content/drive/MyDrive/ML LAB CODES AND DATASETS/titanic_dataset 18-07-25.xlsx\""
      ],
      "metadata": {
        "id": "lV5AU9RcVNG3"
      },
      "execution_count": null,
      "outputs": []
    },
    {
      "cell_type": "code",
      "source": [
        "# Load a specific sheet\n",
        "df = pd.read_excel(drive_path, sheet_name='EXP-1')  # replace 'Sheet1' with your actual sheet name"
      ],
      "metadata": {
        "id": "uDiIaMyOXVsM"
      },
      "execution_count": null,
      "outputs": []
    },
    {
      "cell_type": "code",
      "source": [
        "xls = pd.ExcelFile(drive_path)\n",
        "print(xls.sheet_names)  # Lists all available sheets\n",
        "\n",
        "# Then load the one you want\n",
        "df = xls.parse('EXP-2')"
      ],
      "metadata": {
        "colab": {
          "base_uri": "https://localhost:8080/"
        },
        "id": "FaYQUwcpZrjT",
        "outputId": "c6189ce5-6887-45c0-c7eb-eb7b267bdf26"
      },
      "execution_count": null,
      "outputs": [
        {
          "output_type": "stream",
          "name": "stdout",
          "text": [
            "['EXP-1', 'EXP-2']\n"
          ]
        }
      ]
    },
    {
      "cell_type": "code",
      "source": [
        "csv_path = '/content/drive/MyDrive/ML LAB CODES AND DATASETS/titanic_dataset from seaborn.csv'\n",
        "df = pd.read_csv(csv_path)"
      ],
      "metadata": {
        "id": "yEsX5mn4fU_n"
      },
      "execution_count": null,
      "outputs": []
    },
    {
      "cell_type": "markdown",
      "source": [
        "** 7b: Save CSV/Excel Back to Google Drive**"
      ],
      "metadata": {
        "id": "VKqdqNfehUFt"
      }
    },
    {
      "cell_type": "code",
      "source": [
        "save_path = '/content/drive/MyDrive/ML LAB CODES AND DATASETS/output.csv'\n",
        "df.to_csv(save_path, index=False)"
      ],
      "metadata": {
        "id": "43yTYm6kgK55"
      },
      "execution_count": null,
      "outputs": []
    },
    {
      "cell_type": "code",
      "source": [
        "save_path = '/content/drive/MyDrive/ML LAB CODES AND DATASETS/output.xlsx'\n",
        "df.to_excel(save_path, index=False)"
      ],
      "metadata": {
        "id": "Imuyrvg6gzjW"
      },
      "execution_count": null,
      "outputs": []
    },
    {
      "cell_type": "markdown",
      "source": [
        "**Step 8: Load from a GitHub Raw URL**"
      ],
      "metadata": {
        "id": "upPS3V32sdOC"
      }
    },
    {
      "cell_type": "code",
      "source": [
        "import pandas as pd\n",
        "\n",
        "url = 'https://raw.githubusercontent.com/sanyasirao-surada/research_portal/refs/heads/main/titanic_dataset%20from%20seaborn.csv'\n",
        "df = pd.read_csv(url)"
      ],
      "metadata": {
        "id": "tTB8o6VXmsTh"
      },
      "execution_count": null,
      "outputs": []
    },
    {
      "cell_type": "markdown",
      "source": [
        "**Step 9: Basic Data Exploration**"
      ],
      "metadata": {
        "id": "AHUyYZn92axT"
      }
    },
    {
      "cell_type": "code",
      "source": [
        "print(\"Dataset Overview:\\n\", df.head(), df.tail())\n",
        "print(\"\\nSummary Statistics:\\n\", df.describe(include='all'))\n",
        "print(\"\\nMissing Values:\\n\", df.isnull().sum())\n",
        "print(\"\\nData Types:\\n\", df.dtypes)\n",
        "df.info()\n",
        "print(\"\\nSample Slice:\\n\", df.iloc[6:16, 2:4])"
      ],
      "metadata": {
        "colab": {
          "base_uri": "https://localhost:8080/"
        },
        "id": "kFf3NOEqW-x1",
        "outputId": "badbde43-1747-46e8-f3fa-eaf70a78a030"
      },
      "execution_count": null,
      "outputs": [
        {
          "output_type": "stream",
          "name": "stdout",
          "text": [
            "Dataset Overview:\n",
            "\n",
            "   survived  pclass     sex   age  sibsp  parch     fare embarked  class  \\\n",
            "0         0       3    male  22.0      1      0   7.2500        S  Third   \n",
            "1         1       1  female  38.0      1      0  71.2833        C  First   \n",
            "2         1       3  female  26.0      0      0   7.9250        S  Third   \n",
            "3         1       1  female  35.0      1      0  53.1000        S  First   \n",
            "4         0       3    male  35.0      0      0   8.0500        S  Third   \n",
            "\n",
            "     who  adult_male deck  embark_town alive  alone  \n",
            "0    man        True  NaN  Southampton    no  False  \n",
            "1  woman       False    C    Cherbourg   yes  False  \n",
            "2  woman       False  NaN  Southampton   yes   True  \n",
            "3  woman       False    C  Southampton   yes  False  \n",
            "4    man        True  NaN  Southampton    no   True  \n",
            "     survived  pclass     sex   age  sibsp  parch   fare embarked   class  \\\n",
            "886         0       2    male  27.0      0      0  13.00        S  Second   \n",
            "887         1       1  female  19.0      0      0  30.00        S   First   \n",
            "888         0       3  female   NaN      1      2  23.45        S   Third   \n",
            "889         1       1    male  26.0      0      0  30.00        C   First   \n",
            "890         0       3    male  32.0      0      0   7.75        Q   Third   \n",
            "\n",
            "       who  adult_male deck  embark_town alive  alone  \n",
            "886    man        True  NaN  Southampton    no   True  \n",
            "887  woman       False    B  Southampton   yes   True  \n",
            "888  woman       False  NaN  Southampton    no  False  \n",
            "889    man        True    C    Cherbourg   yes   True  \n",
            "890    man        True  NaN   Queenstown    no   True  \n",
            "\n",
            "Summary Statistics:\n",
            "\n",
            "          survived      pclass   sex         age       sibsp       parch  \\\n",
            "count   891.000000  891.000000   891  714.000000  891.000000  891.000000   \n",
            "unique         NaN         NaN     2         NaN         NaN         NaN   \n",
            "top            NaN         NaN  male         NaN         NaN         NaN   \n",
            "freq           NaN         NaN   577         NaN         NaN         NaN   \n",
            "mean      0.383838    2.308642   NaN   29.699118    0.523008    0.381594   \n",
            "std       0.486592    0.836071   NaN   14.526497    1.102743    0.806057   \n",
            "min       0.000000    1.000000   NaN    0.420000    0.000000    0.000000   \n",
            "25%       0.000000    2.000000   NaN   20.125000    0.000000    0.000000   \n",
            "50%       0.000000    3.000000   NaN   28.000000    0.000000    0.000000   \n",
            "75%       1.000000    3.000000   NaN   38.000000    1.000000    0.000000   \n",
            "max       1.000000    3.000000   NaN   80.000000    8.000000    6.000000   \n",
            "\n",
            "              fare embarked  class  who adult_male deck  embark_town alive  \\\n",
            "count   891.000000      889    891  891        891  203          889   891   \n",
            "unique         NaN        3      3    3          2    7            3     2   \n",
            "top            NaN        S  Third  man       True    C  Southampton    no   \n",
            "freq           NaN      644    491  537        537   59          644   549   \n",
            "mean     32.204208      NaN    NaN  NaN        NaN  NaN          NaN   NaN   \n",
            "std      49.693429      NaN    NaN  NaN        NaN  NaN          NaN   NaN   \n",
            "min       0.000000      NaN    NaN  NaN        NaN  NaN          NaN   NaN   \n",
            "25%       7.910400      NaN    NaN  NaN        NaN  NaN          NaN   NaN   \n",
            "50%      14.454200      NaN    NaN  NaN        NaN  NaN          NaN   NaN   \n",
            "75%      31.000000      NaN    NaN  NaN        NaN  NaN          NaN   NaN   \n",
            "max     512.329200      NaN    NaN  NaN        NaN  NaN          NaN   NaN   \n",
            "\n",
            "       alone  \n",
            "count    891  \n",
            "unique     2  \n",
            "top     True  \n",
            "freq     537  \n",
            "mean     NaN  \n",
            "std      NaN  \n",
            "min      NaN  \n",
            "25%      NaN  \n",
            "50%      NaN  \n",
            "75%      NaN  \n",
            "max      NaN  \n",
            "\n",
            "Missing Values:\n",
            "\n",
            "survived         0\n",
            "pclass           0\n",
            "sex              0\n",
            "age            177\n",
            "sibsp            0\n",
            "parch            0\n",
            "fare             0\n",
            "embarked         2\n",
            "class            0\n",
            "who              0\n",
            "adult_male       0\n",
            "deck           688\n",
            "embark_town      2\n",
            "alive            0\n",
            "alone            0\n",
            "dtype: int64\n"
          ]
        }
      ]
    },
    {
      "cell_type": "markdown",
      "source": [
        "**Step 10: Data Preparation Activities**"
      ],
      "metadata": {
        "id": "euKXeEqQ26S6"
      }
    },
    {
      "cell_type": "code",
      "source": [
        "# 10a. Filtering survivors\n",
        "survived = df[df['survived'] == 1]\n",
        "\n",
        "# 10b. Grouping & counting survivors by gender & class\n",
        "grouped = df.groupby(['sex','pclass'])['survived'].sum()\n",
        "\n",
        "# 10c. Sorting by age (showing youngest via 'who')\n",
        "sorted_df = df.sort_values(by='age')"
      ],
      "metadata": {
        "colab": {
          "base_uri": "https://localhost:8080/"
        },
        "id": "0OB0Pp03bIQu",
        "outputId": "35e21873-4288-43bf-8105-1d2582e8776f"
      },
      "execution_count": null,
      "outputs": [
        {
          "output_type": "stream",
          "name": "stdout",
          "text": [
            "\n",
            "Filtering passengers who survived:\n",
            "      sex   age  pclass  survived\n",
            "1  female  38.0       1         1\n",
            "2  female  26.0       3         1\n",
            "3  female  35.0       1         1\n",
            "8  female  27.0       3         1\n",
            "9  female  14.0       2         1\n"
          ]
        }
      ]
    },
    {
      "cell_type": "markdown",
      "source": [
        "**Step 11: Data Visualization**"
      ],
      "metadata": {
        "id": "bU79Gqie3Pvg"
      }
    },
    {
      "cell_type": "code",
      "source": [
        "plt.figure(figsize=(15,10))\n",
        "\n",
        "# Bar plot of survival by gender\n",
        "plt.subplot(2,3,1)\n",
        "sns.countplot(x='sex', hue='survived', data=df)\n",
        "plt.title(\"Survival Count by Gender\")\n",
        "\n",
        "# Histogram of age\n",
        "plt.subplot(2,3,2)\n",
        "df['age'].dropna().hist(bins=20, edgecolor='g')\n",
        "plt.title(\"Age Distribution\")\n",
        "\n",
        "# KDE histogram of fare\n",
        "plt.subplot(2,3,3)\n",
        "sns.histplot(df['fare'], kde=True)\n",
        "plt.title(\"Fare Distribution with KDE\")\n",
        "\n",
        "# Box plot of age by class\n",
        "plt.subplot(2,3,4)\n",
        "sns.boxplot(x='pclass', y='age', data=df)\n",
        "plt.title(\"Box Plot of Age by Class\")\n",
        "\n",
        "# Scatter plot of age vs fare colored by survival\n",
        "plt.subplot(2,3,5)\n",
        "sns.scatterplot(x='age', y='fare', hue='survived', data=df)\n",
        "plt.title(\"Age vs Fare (Survival)\")\n",
        "\n",
        "plt.tight_layout()\n",
        "plt.show()\n"
      ],
      "metadata": {
        "id": "ou_wjodi3uVS"
      },
      "execution_count": null,
      "outputs": []
    },
    {
      "cell_type": "markdown",
      "source": [
        "**Step 12: Extended Visualizations**"
      ],
      "metadata": {
        "id": "K41BF2403zKW"
      }
    },
    {
      "cell_type": "code",
      "source": [
        "# Survival rate by class (barplot)\n",
        "sns.barplot(data=df, x='class', y='survived')\n",
        "\n",
        "# Pie chart of overall survival distribution\n",
        "plt.pie(df['survived'].value_counts(), labels=['No','Yes'], autopct='%1.1f%%')\n",
        "\n",
        "# Violin plot: age & survival by gender\n",
        "sns.violinplot(data=df, x='sex', y='age', hue='survived', split=True)\n",
        "\n",
        "# Correlation heatmap (numeric only)\n",
        "sns.heatmap(df.corr(numeric_only=True), annot=True, cmap='coolwarm')\n",
        "\n",
        "# FacetGrid: age distribution by survival & gender\n",
        "g = sns.FacetGrid(df, col=\"survived\", row=\"sex\", margin_titles=True)\n",
        "g.map_dataframe(sns.histplot, x=\"age\", bins=20)\n",
        "\n",
        "# Scatter with class styling\n",
        "sns.scatterplot(data=df, x='age', y='fare', hue='class', style='survived')\n",
        "\n",
        "# Swarm plot of age by class & gender\n",
        "sns.swarmplot(data=df, x='class', y='age', hue='sex')\n"
      ],
      "metadata": {
        "id": "PF0Cy0g938A7"
      },
      "execution_count": null,
      "outputs": []
    },
    {
      "cell_type": "code",
      "source": [
        "################################################################################\n",
        "# Step 1: Import Required Libraries\n",
        "################################################################################\n",
        "# pandas: for DataFrame operations (reading/writing CSV & Excel, slicing, grouping)\n",
        "# matplotlib.pyplot: for creating figures and managing layouts\n",
        "# seaborn: for high‑level statistical plotting built on matplotlib\n",
        "import pandas as pd\n",
        "import matplotlib.pyplot as plt\n",
        "import seaborn as sns\n",
        "\n",
        "\n",
        "################################################################################\n",
        "# Step 2: Load the Titanic Dataset\n",
        "################################################################################\n",
        "# sns.load_dataset('titanic') fetches the Titanic passenger dataset directly\n",
        "# from Seaborn’s example repository, returning a pandas DataFrame.\n",
        "df = sns.load_dataset('titanic')\n",
        "\n",
        "\n",
        "################################################################################\n",
        "# Step 3: Save Dataset to Excel and CSV\n",
        "################################################################################\n",
        "# .to_excel() and .to_csv() write the DataFrame to files.\n",
        "# index=False omits the auto-generated row index for clean tables.\n",
        "df.to_excel('titanic_dataset.xlsx', index=False)\n",
        "df.to_csv('titanic_dataset.csv', index=False)\n",
        "\n",
        "\n",
        "################################################################################\n",
        "# Step 4: Download Files Locally in Colab\n",
        "################################################################################\n",
        "# files.download() triggers a browser download for each file.\n",
        "from google.colab import files\n",
        "files.download('titanic_dataset.xlsx')\n",
        "files.download('titanic_dataset.csv')\n",
        "\n",
        "\n",
        "################################################################################\n",
        "# Step 5: Upload Files Back into Colab (if you’ve modified them locally)\n",
        "################################################################################\n",
        "# files.upload() opens a widget to select and upload files from your computer.\n",
        "uploaded = files.upload()\n",
        "\n",
        "\n",
        "################################################################################\n",
        "# Step 6: Read Uploaded File into a DataFrame\n",
        "################################################################################\n",
        "# After uploading, load your edited files back into df for further work.\n",
        "df = pd.read_csv('titanic_dataset.csv')\n",
        "# or, if you prefer Excel:\n",
        "df = pd.read_excel('titanic_dataset.xlsx')\n",
        "\n",
        "\n",
        "################################################################################\n",
        "# Step 7: Mount & Access Google Drive\n",
        "################################################################################\n",
        "# Mounting Drive lets you persist and share files across sessions.\n",
        "from google.colab import drive\n",
        "drive.mount('/content/drive')\n",
        "\n",
        "# Example paths on Drive:\n",
        "drive_path = \"/content/drive/MyDrive/ML_LAB/titanic_dataset.xlsx\"\n",
        "# To inspect sheet names in a multi-sheet workbook:\n",
        "xls = pd.ExcelFile(drive_path)\n",
        "print(xls.sheet_names)       # e.g. ['EXP-1', 'EXP-2']\n",
        "\n",
        "# Load a specific sheet:\n",
        "df = xls.parse('EXP-1')\n",
        "\n",
        "\n",
        "################################################################################\n",
        "# Step 8: Load Dataset from a GitHub Raw URL\n",
        "################################################################################\n",
        "# You can fetch CSVs directly from GitHub for a reproducible workflow.\n",
        "url = 'https://raw.githubusercontent.com/yourusername/yourrepo/main/titanic_dataset.csv'\n",
        "df = pd.read_csv(url)\n",
        "\n",
        "\n",
        "################################################################################\n",
        "# Step 9: Basic Data Exploration\n",
        "################################################################################\n",
        "print(\"Dataset Head:\\n\", df.head(), \"\\n\")\n",
        "print(\"Dataset Tail:\\n\", df.tail(), \"\\n\")\n",
        "print(\"Summary Statistics:\\n\", df.describe(include='all'), \"\\n\")\n",
        "print(\"Missing Values:\\n\", df.isnull().sum(), \"\\n\")\n",
        "print(\"Column Data Types:\\n\", df.dtypes, \"\\n\")\n",
        "df.info()\n",
        "print(\"\\nSample Slice (rows 6–15, cols 2–3):\\n\", df.iloc[6:16, 2:4])\n",
        "\n",
        "\n",
        "################################################################################\n",
        "# Step 10: Data Preparation Activities\n",
        "################################################################################\n",
        "# 10a. Filtering survivors\n",
        "print(\"\\nFiltered (survived == 1):\")\n",
        "survived = df[df['survived'] == 1]\n",
        "print(survived[['sex','age','pclass','survived']].head(), \"\\n\")\n",
        "\n",
        "# 10b. Grouping & counting by 'sex' and 'pclass'\n",
        "print(\"Grouped survivor counts by sex & pclass:\")\n",
        "grouped = df.groupby(['sex','pclass'])['survived'].sum()\n",
        "print(grouped, \"\\n\")\n",
        "\n",
        "# 10c. Sorting by age\n",
        "print(\"Youngest passengers (sorted by age):\")\n",
        "sorted_df = df.sort_values(by='age')\n",
        "print(sorted_df[['who','age','sex']].head(), \"\\n\")\n",
        "\n",
        "\n",
        "################################################################################\n",
        "# Step 11: Data Visualization (multiple subplots)\n",
        "################################################################################\n",
        "plt.figure(figsize=(15, 10))\n",
        "\n",
        "# 11a. Bar Plot: Survival count by gender\n",
        "plt.subplot(2, 3, 1)\n",
        "sns.countplot(x='sex', hue='survived', data=df)\n",
        "plt.title(\"Survival Count by Gender\")\n",
        "\n",
        "# 11b. Histogram: Age distribution\n",
        "plt.subplot(2, 3, 2)\n",
        "df['age'].dropna().hist(bins=20, edgecolor='black')\n",
        "plt.title(\"Age Distribution\")\n",
        "\n",
        "# 11c. KDE Histogram: Fare distribution\n",
        "plt.subplot(2, 3, 3)\n",
        "sns.histplot(df['fare'], kde=True)\n",
        "plt.title(\"Fare Distribution with KDE\")\n",
        "\n",
        "# 11d. Box Plot: Age vs Class\n",
        "plt.subplot(2, 3, 4)\n",
        "sns.boxplot(x='pclass', y='age', data=df)\n",
        "plt.title(\"Box Plot of Age by Class\")\n",
        "\n",
        "# 11e. Scatter Plot: Age vs Fare colored by survival\n",
        "plt.subplot(2, 3, 5)\n",
        "sns.scatterplot(x='age', y='fare', hue='survived', data=df)\n",
        "plt.title(\"Age vs Fare (Survival)\")\n",
        "\n",
        "plt.tight_layout()\n",
        "plt.show()\n",
        "\n",
        "\n",
        "################################################################################\n",
        "# Step 12: Extended Visualizations (examples)\n",
        "################################################################################\n",
        "# Survival rate by passenger class\n",
        "sns.barplot(data=df, x='class', y='survived')\n",
        "plt.title(\"Survival Rate by Class\")\n",
        "plt.show()\n",
        "\n",
        "# Pie chart of overall survival distribution\n",
        "survived_counts = df['survived'].value_counts()\n",
        "plt.pie(survived_counts, labels=['Did Not Survive','Survived'], autopct='%1.1f%%')\n",
        "plt.title(\"Survival Distribution\")\n",
        "plt.show()\n",
        "\n",
        "# Violin plot: Age & survival by gender\n",
        "sns.violinplot(data=df, x='sex', y='age', hue='survived', split=True)\n",
        "plt.title(\"Age & Survival by Gender\")\n",
        "plt.show()\n",
        "\n",
        "# Correlation heatmap (numeric features)\n",
        "sns.heatmap(df.corr(numeric_only=True), annot=True, cmap='coolwarm')\n",
        "plt.title(\"Correlation Heatmap\")\n",
        "plt.show()\n"
      ],
      "metadata": {
        "id": "QvUbwkbPeJoT"
      },
      "execution_count": null,
      "outputs": []
    }
  ]
}